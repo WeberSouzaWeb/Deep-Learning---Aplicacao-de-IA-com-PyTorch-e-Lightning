{
 "cells": [
  {
   "cell_type": "markdown",
   "id": "216bbb8c",
   "metadata": {},
   "source": [
    "# <font color='blue'>Weber Souza</font>\n",
    "# <font color='blue'>Deep Learning Para Aplicações de IA com PyTorch e Lightning</font>\n",
    "\n",
    "## <font color='blue'>Lab 3 - Preparação dos Dados</font>\n",
    "### <font color='blue'>Análise de Imagens de Satélite com Torchvision Para Demonstrar a Importância da Função de Ativação</font>"
   ]
  },
  {
   "cell_type": "markdown",
   "id": "fbb2550e",
   "metadata": {},
   "source": [
    "![title](imagens/Lab3.png)"
   ]
  },
  {
   "cell_type": "code",
   "execution_count": 1,
   "id": "815a16c7",
   "metadata": {},
   "outputs": [
    {
     "name": "stdout",
     "output_type": "stream",
     "text": [
      "Versão da Linguagem Python Usada Neste Jupyter Notebook: 3.11.7\n"
     ]
    }
   ],
   "source": [
    "# Versão da Linguagem Python\n",
    "from platform import python_version\n",
    "print('Versão da Linguagem Python Usada Neste Jupyter Notebook:', python_version())"
   ]
  },
  {
   "cell_type": "code",
   "execution_count": null,
   "id": "bfead18c",
   "metadata": {},
   "outputs": [],
   "source": [
    "# Para atualizar um pacote, execute o comando abaixo no terminal ou prompt de comando:\n",
    "#!pip install -U nome_pacote\n",
    "\n",
    "# Para instalar a versão exata de um pacote, execute o comando abaixo no terminal ou prompt de comando:\n",
    "#!pip install nome_pacote==versão_desejada\n",
    "\n",
    "# Depois de instalar ou atualizar o pacote, reinicie o jupyter notebook.\n",
    "\n",
    "# Instala o pacote watermark. \n",
    "# Esse pacote é usado para gravar as versões de outros pacotes usados neste jupyter notebook.\n",
    "#!pip install -q -U watermark"
   ]
  },
  {
   "cell_type": "code",
   "execution_count": null,
   "id": "7778569e",
   "metadata": {},
   "outputs": [],
   "source": [
    "# Imports\n",
    "import os\n",
    "import numpy as np\n",
    "import shutil"
   ]
  },
  {
   "cell_type": "code",
   "execution_count": null,
   "id": "79fe2fbd",
   "metadata": {},
   "outputs": [],
   "source": [
    "# Versões dos pacotes usados neste jupyter notebook\n",
    "%reload_ext watermark\n",
    "%watermark -a \"Weber Souza\" --iversions"
   ]
  },
  {
   "cell_type": "markdown",
   "id": "a2a4c774",
   "metadata": {},
   "source": [
    "## Preparação dos Dados"
   ]
  },
  {
   "cell_type": "markdown",
   "id": "2a67d264",
   "metadata": {},
   "source": [
    "### Criação das Pastas"
   ]
  },
  {
   "cell_type": "code",
   "execution_count": null,
   "id": "5840e81d",
   "metadata": {},
   "outputs": [],
   "source": [
    "pasta_dados_originais = 'data'"
   ]
  },
  {
   "cell_type": "code",
   "execution_count": null,
   "id": "4f6e374a",
   "metadata": {},
   "outputs": [],
   "source": [
    "nomes_classes = ['cloudy', 'desert', 'green_area', 'water']"
   ]
  },
  {
   "cell_type": "code",
   "execution_count": null,
   "id": "19bc3a15",
   "metadata": {},
   "outputs": [],
   "source": [
    "# Loop\n",
    "for i in range(len(nomes_classes)):\n",
    "    \n",
    "    # Extrai o nome de cada classe\n",
    "    class1 = '/' + nomes_classes[i]\n",
    "    \n",
    "    # Cria as pastas\n",
    "    os.makedirs('dados/treino/' + nomes_classes[i])\n",
    "    os.makedirs('dados/val/' + nomes_classes[i])\n",
    "    os.makedirs('dados/teste/' + nomes_classes[i])"
   ]
  },
  {
   "cell_type": "markdown",
   "id": "69c9f7b3",
   "metadata": {},
   "source": [
    "### Cópia das Imagens Para as Pastas"
   ]
  },
  {
   "cell_type": "code",
   "execution_count": null,
   "id": "bdaa8756",
   "metadata": {},
   "outputs": [],
   "source": [
    "# Loop\n",
    "for k in range(len(nomes_classes)):\n",
    "    \n",
    "    # Extrai um nome de classe\n",
    "    nome_classe = nomes_classes[k]\n",
    "    \n",
    "    # Define a fonte\n",
    "    src = pasta_dados_originais + \"/\" + nome_classe \n",
    "    \n",
    "    # Mostra qual classe estamos processando\n",
    "    print(\"\\nClasse:\", nomes_classes[k])\n",
    "    \n",
    "    # Lista o conteúdo da pasta\n",
    "    allFileNames = os.listdir(src)\n",
    "    \n",
    "    # \"Embaralha\" os dados\n",
    "    np.random.shuffle(allFileNames)\n",
    "    \n",
    "    # Divisão = 70% treino, 15% teste, 15% validação \n",
    "    train_FileNames, val_FileNames, test_FileNames = np.split(np.array(allFileNames),\n",
    "                                                          [int(len(allFileNames)*0.7), int(len(allFileNames)*0.85)])\n",
    "\n",
    "\n",
    "    # Nome dos arquivos\n",
    "    train_FileNames = [src + '/' + name for name in train_FileNames.tolist()]\n",
    "    val_FileNames = [src + '/' + name for name in val_FileNames.tolist()]\n",
    "    test_FileNames = [src + '/' + name for name in test_FileNames.tolist()]\n",
    "\n",
    "    # Print\n",
    "    print('Número Total de Imagens: ', len(allFileNames))\n",
    "    print('Imagens de Treino: ', len(train_FileNames))\n",
    "    print('Imagens de Validação: ', len(val_FileNames))\n",
    "    print('Imagens de Teste: ', len(test_FileNames))\n",
    "    \n",
    "    # Copia as imagens\n",
    "    for name in train_FileNames:\n",
    "        shutil.copy(name, \"dados/treino/\" + nome_classe)\n",
    "    \n",
    "    for name in val_FileNames:\n",
    "        shutil.copy(name, \"dados/val/\" + nome_classe)\n",
    "        \n",
    "    for name in test_FileNames:\n",
    "        shutil.copy(name, \"dados/teste/\" + nome_classe)    "
   ]
  },
  {
   "cell_type": "markdown",
   "id": "f300a8f2",
   "metadata": {},
   "source": [
    "# Fim"
   ]
  }
 ],
 "metadata": {
  "kernelspec": {
   "display_name": "Python 3 (ipykernel)",
   "language": "python",
   "name": "python3"
  },
  "language_info": {
   "codemirror_mode": {
    "name": "ipython",
    "version": 3
   },
   "file_extension": ".py",
   "mimetype": "text/x-python",
   "name": "python",
   "nbconvert_exporter": "python",
   "pygments_lexer": "ipython3",
   "version": "3.11.7"
  }
 },
 "nbformat": 4,
 "nbformat_minor": 5
}
